{
 "cells": [
  {
   "cell_type": "markdown",
   "id": "e7c33f5f-0fd2-4cb8-a782-e59dd5695631",
   "metadata": {},
   "source": [
    "# Data Science Tools and Ecosystem"
   ]
  },
  {
   "cell_type": "markdown",
   "id": "f65423fd-27c8-418a-a1e3-7bc1079ac9dc",
   "metadata": {},
   "source": [
    "In this notebook, Data Science Tools and Ecosystem are summarized.\n"
   ]
  },
  {
   "cell_type": "markdown",
   "id": "c992cd12-2112-4955-a85f-8c2b1245c1a0",
   "metadata": {},
   "source": [
    "Some of the popular languages that Data Scientists use are:\n",
    "1. SQL\n",
    "2. JAVA\n",
    "3. JAVASCRIPT"
   ]
  },
  {
   "cell_type": "markdown",
   "id": "ef072e5f-d014-465a-b52c-a121504e2f73",
   "metadata": {},
   "source": [
    "Some of the commonly used libraries used by Data Scientists include:\n",
    "1. matplotlib\n",
    "2. scikit\n",
    "3. pandas"
   ]
  },
  {
   "cell_type": "markdown",
   "id": "970c0771-0fb1-4600-b0e5-baadfd75aa4f",
   "metadata": {},
   "source": [
    "|Data Science Tools|\n",
    "|----------------------|\n",
    "|jupyter notebook|\n",
    "|pytorch|\n",
    "|Rstudios|"
   ]
  },
  {
   "cell_type": "markdown",
   "id": "4c0b2b6e-7c2c-48d8-9e45-6a0eccd2639d",
   "metadata": {},
   "source": [
    "### Below are a few examples of evaluating arithmetic expressions in Python\n",
    "\n",
    "1.\ta + b\n",
    "2.\t-a\n",
    "3.\ta - b"
   ]
  },
  {
   "cell_type": "code",
   "execution_count": 19,
   "id": "6079530f-8931-4b8c-bea8-c4fab36a2448",
   "metadata": {},
   "outputs": [
    {
     "name": "stdout",
     "output_type": "stream",
     "text": [
      "17\n"
     ]
    }
   ],
   "source": [
    "#This a simple arithmetic expression to mutiply then add integers\n",
    "\n",
    "x=(3*4)+5\n",
    "print(x)"
   ]
  },
  {
   "cell_type": "code",
   "execution_count": 20,
   "id": "cab0e6e7-0ed6-4b61-a7c3-5fa7d68095f5",
   "metadata": {},
   "outputs": [
    {
     "name": "stdout",
     "output_type": "stream",
     "text": [
      "0 days, 3.3333333333333335 hours, 0 mins. \n"
     ]
    }
   ],
   "source": [
    "#This will convert 200 minutes to hours by diving by 60 \n",
    "days = 0\n",
    "hours = 0\n",
    "mins = 0\n",
    "\n",
    "time = 200\n",
    "#days = time / 1440\n",
    "leftover_minutes = time % 1440\n",
    "hours = leftover_minutes / 60\n",
    "#mins = time - (days*1440) - (hours*60)\n",
    "print(str(days) + \" days, \" + str(hours) + \" hours, \" + str(mins) +  \" mins. \")"
   ]
  },
  {
   "cell_type": "markdown",
   "id": "eed822ba-f64d-4690-8537-9573d20104cf",
   "metadata": {},
   "source": [
    "**OBJECTIVES**\n",
    "## The key takeaways from the Course\n",
    "\n",
    "* Describe the Data Scientist’s tool kit which includes: Libraries & Packages, Data sets, Machine learning models, and Big Data tools  .\n",
    "* Utilize languages commonly used by data scientists like Python, R, and SQL  .\n",
    "* Demonstrate working knowledge of tools such as Jupyter notebooks and RStudio and utilize their various features   .\n",
    "* Create and manage source code for data science using Git repositories and GitHub.   "
   ]
  },
  {
   "cell_type": "markdown",
   "id": "9ec92941-29ca-4d37-824e-85bde575ec07",
   "metadata": {},
   "source": [
    "## Author\n",
    "Sakshi"
   ]
  },
  {
   "cell_type": "code",
   "execution_count": null,
   "id": "48fa5bc6-49b8-4126-8420-cf336d8ed518",
   "metadata": {},
   "outputs": [],
   "source": []
  }
 ],
 "metadata": {
  "kernelspec": {
   "display_name": "Python 3 (ipykernel)",
   "language": "python",
   "name": "python3"
  },
  "language_info": {
   "codemirror_mode": {
    "name": "ipython",
    "version": 3
   },
   "file_extension": ".py",
   "mimetype": "text/x-python",
   "name": "python",
   "nbconvert_exporter": "python",
   "pygments_lexer": "ipython3",
   "version": "3.12.1"
  }
 },
 "nbformat": 4,
 "nbformat_minor": 5
}
